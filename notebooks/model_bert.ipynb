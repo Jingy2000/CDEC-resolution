{
 "cells": [
  {
   "cell_type": "markdown",
   "metadata": {},
   "source": [
    "# MordenBert"
   ]
  },
  {
   "cell_type": "code",
   "execution_count": 1,
   "metadata": {},
   "outputs": [
    {
     "name": "stderr",
     "output_type": "stream",
     "text": [
      "c:\\Users\\jyshi\\github\\CDEC-resolution\\.venv\\Lib\\site-packages\\tqdm\\auto.py:21: TqdmWarning: IProgress not found. Please update jupyter and ipywidgets. See https://ipywidgets.readthedocs.io/en/stable/user_install.html\n",
      "  from .autonotebook import tqdm as notebook_tqdm\n"
     ]
    }
   ],
   "source": [
    "from transformers import AutoTokenizer, ModernBertModel\n",
    "import torch\n",
    "from torch.utils.data import Dataset, DataLoader, RandomSampler, SequentialSampler\n",
    "\n",
    "\n",
    "tokenizer = AutoTokenizer.from_pretrained(\"answerdotai/ModernBERT-base\")\n",
    "model = ModernBertModel.from_pretrained(\"answerdotai/ModernBERT-base\")\n",
    "\n",
    "inputs = tokenizer(\"Hello, my dog is cute\", return_tensors=\"pt\")\n",
    "outputs = model(**inputs)\n",
    "\n",
    "last_hidden_states = outputs.last_hidden_state"
   ]
  },
  {
   "cell_type": "markdown",
   "metadata": {},
   "source": [
    "## Load data, prepare for training\n"
   ]
  },
  {
   "cell_type": "code",
   "execution_count": 2,
   "metadata": {},
   "outputs": [],
   "source": [
    "import pandas as pd\n",
    "\n",
    "# Load data\n",
    "train_set = pd.read_csv(\"../data/event_pairs.train\", sep='\\t', on_bad_lines='skip')\n",
    "dev_set = pd.read_csv(\"../data/event_pairs.dev\", sep='\\t', on_bad_lines='skip')\n",
    "test_set = pd.read_csv(\"../data/event_pairs.test\", sep='\\t', on_bad_lines='skip')\n",
    "\n",
    "# Rename columns\n",
    "col_names = [\n",
    "    \"sentence1\",\n",
    "    \"e1_trigger_start\",\n",
    "    \"e1_trigger_end\",\n",
    "    \"e1_participant1_start\",\n",
    "    \"e1_participant1_end\",\n",
    "    \"e1_participant2_start\",\n",
    "    \"e1_participant2_end\",\n",
    "    \"e1_time_start\",\n",
    "    \"e1_time_end\",\n",
    "    \"e1_loc_start\",\n",
    "    \"e1_loc_end\",\n",
    "    \"sentence2\",\n",
    "    \"e2_trigger_start\",\n",
    "    \"e2_trigger_end\",\n",
    "    \"e2_participant1_start\",\n",
    "    \"e2_participant1_end\",\n",
    "    \"e2_participant2_start\",\n",
    "    \"e2_participant2_end\",\n",
    "    \"e2_time_start\",\n",
    "    \"e2_time_end\",\n",
    "    \"e2_loc_start\",\n",
    "    \"e2_loc_end\",\n",
    "    \"label\"\n",
    "]\n",
    "\n",
    "train_set.columns = col_names\n",
    "dev_set.columns = col_names\n",
    "test_set.columns = ['event_id_1', 'event_id_2'] + col_names\n",
    "\n",
    "for dataset in [train_set, dev_set, test_set]:\n",
    "    dataset.drop(columns=['e1_participant1_start', 'e1_participant1_end', 'e1_participant2_start', 'e1_participant2_end', 'e1_time_start', 'e1_time_end', 'e1_loc_start', 'e1_loc_end', 'e2_participant1_start', 'e2_participant1_end', 'e2_participant2_start', 'e2_participant2_end', 'e2_time_start', 'e2_time_end', 'e2_loc_start', 'e2_loc_end'], inplace=True)"
   ]
  },
  {
   "cell_type": "code",
   "execution_count": null,
   "metadata": {},
   "outputs": [],
   "source": [
    "import torch\n",
    "from torch.utils.data import Dataset\n",
    "import pandas as pd\n",
    "from transformers import BertTokenizer\n",
    "\n",
    "class CDECDataset(Dataset):\n",
    "    def __init__(self, data_path, tokenizer, max_len=128):\n",
    "        \"\"\"\n",
    "        Args:\n",
    "            data_path (str): Path to the CSV/TSV data file\n",
    "            tokenizer: BERT tokenizer\n",
    "            max_len (int): Maximum length of tokens\n",
    "        \"\"\"\n",
    "        self.data = pd.read_csv(data_path, sep='\\t')\n",
    "        self.tokenizer = tokenizer\n",
    "        self.max_len = max_len\n",
    "        \n",
    "    def __len__(self):\n",
    "        return len(self.data)\n",
    "    \n",
    "    def __getitem__(self, idx):\n",
    "        text = str(self.data.iloc[idx]['text'])\n",
    "        label = self.data.iloc[idx]['label']\n",
    "        \n",
    "        encoding = self.tokenizer.encode_plus(\n",
    "            text,\n",
    "            add_special_tokens=True,\n",
    "            max_length=self.max_len,\n",
    "            return_token_type_ids=True,\n",
    "            padding='max_length',\n",
    "            truncation=True,\n",
    "            return_attention_mask=True,\n",
    "            return_tensors='pt'\n",
    "        )\n",
    "        \n",
    "        return {\n",
    "            'input_ids': encoding['input_ids'].flatten(),\n",
    "            'attention_mask': encoding['attention_mask'].flatten(),\n",
    "            'token_type_ids': encoding['token_type_ids'].flatten(),\n",
    "            'label': torch.tensor(label, dtype=torch.long)\n",
    "        }"
   ]
  },
  {
   "cell_type": "code",
   "execution_count": 8,
   "metadata": {},
   "outputs": [
    {
     "name": "stdout",
     "output_type": "stream",
     "text": [
      "tensor([6])\n"
     ]
    }
   ],
   "source": [
    "from transformers import AutoTokenizer, ModernBertForSequenceClassification\n",
    "import torch\n",
    "\n",
    "tokenizer = AutoTokenizer.from_pretrained(\"answerdotai/ModernBERT-base\")\n",
    "model = ModernBertForSequenceClassification.from_pretrained(\"answerdotai/ModernBERT-base\", attn_implementation=\"flash_attention_2\")\n",
    "\n",
    "inputs = tokenizer(\"The capital of France is [MASK].\", return_tensors=\"pt\")\n",
    "\n",
    "with torch.no_grad():\n",
    "    logits = model(**inputs).logits\n",
    "\n",
    "# retrieve index of [MASK]\n",
    "mask_token_index = (inputs.input_ids == tokenizer.mask_token_id)[0].nonzero(as_tuple=True)[0]\n",
    "\n",
    "predicted_token_id = logits[0, mask_token_index].argmax(axis=-1)\n",
    "\n",
    "labels = tokenizer(\"The capital of France is Paris.\", return_tensors=\"pt\")[\"input_ids\"]\n",
    "# mask labels of non-[MASK] tokens\n",
    "labels = torch.where(inputs.input_ids == tokenizer.mask_token_id, labels, -100)\n",
    "\n",
    "outputs = model(**inputs, labels=labels)"
   ]
  },
  {
   "cell_type": "code",
   "execution_count": null,
   "metadata": {},
   "outputs": [],
   "source": []
  }
 ],
 "metadata": {
  "kernelspec": {
   "display_name": ".venv",
   "language": "python",
   "name": "python3"
  },
  "language_info": {
   "codemirror_mode": {
    "name": "ipython",
    "version": 3
   },
   "file_extension": ".py",
   "mimetype": "text/x-python",
   "name": "python",
   "nbconvert_exporter": "python",
   "pygments_lexer": "ipython3",
   "version": "3.12.7"
  }
 },
 "nbformat": 4,
 "nbformat_minor": 2
}
