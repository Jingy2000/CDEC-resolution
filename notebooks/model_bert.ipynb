{
 "cells": [
  {
   "cell_type": "markdown",
   "metadata": {},
   "source": [
    "# MordenBert"
   ]
  },
  {
   "cell_type": "markdown",
   "metadata": {},
   "source": [
    "## Load data, prepare for training\n",
    "\n",
    "Notes:\n",
    "- The sentences are seperated by space token by token\n",
    "- token index starts from 0\n"
   ]
  },
  {
   "cell_type": "markdown",
   "metadata": {},
   "source": []
  },
  {
   "cell_type": "code",
   "execution_count": 18,
   "metadata": {},
   "outputs": [],
   "source": [
    "import pandas as pd\n",
    "\n",
    "# Rename columns\n",
    "col_names = [\n",
    "    \"sentence1\",\n",
    "    \"e1_trigger_start\",\n",
    "    \"e1_trigger_end\",\n",
    "    \"e1_participant1_start\",\n",
    "    \"e1_participant1_end\",\n",
    "    \"e1_participant2_start\",\n",
    "    \"e1_participant2_end\",\n",
    "    \"e1_time_start\",\n",
    "    \"e1_time_end\",\n",
    "    \"e1_loc_start\",\n",
    "    \"e1_loc_end\",\n",
    "    \"sentence2\",\n",
    "    \"e2_trigger_start\",\n",
    "    \"e2_trigger_end\",\n",
    "    \"e2_participant1_start\",\n",
    "    \"e2_participant1_end\",\n",
    "    \"e2_participant2_start\",\n",
    "    \"e2_participant2_end\",\n",
    "    \"e2_time_start\",\n",
    "    \"e2_time_end\",\n",
    "    \"e2_loc_start\",\n",
    "    \"e2_loc_end\",\n",
    "    \"label\"\n",
    "]\n",
    "\n",
    "# Load data\n",
    "with open(\"../data/event_pairs.train\") as f:\n",
    "    lines = f.readlines()\n",
    "    lines = [l.strip().split(\"\\t\") for l in lines]\n",
    "    train_set = pd.DataFrame(lines, columns=col_names)\n",
    "\n",
    "with open(\"../data/event_pairs.dev\") as f:\n",
    "    lines = f.readlines()\n",
    "    lines = [l.strip().split(\"\\t\") for l in lines]\n",
    "    dev_set = pd.DataFrame(lines, columns=col_names)\n",
    "\n",
    "with open(\"../data/event_pairs.test\") as f:\n",
    "    lines = f.readlines()\n",
    "    lines = [l.strip().split(\"\\t\") for l in lines]\n",
    "    test_set = pd.DataFrame(lines, columns=['event_id_1', 'event_id_2'] + col_names)\n",
    "\n",
    "\n",
    "# Drop columns since most of them are -1 which is not provided by the dataset\n",
    "for dataset in [train_set, dev_set, test_set]:\n",
    "    dataset.drop(columns=['e1_participant1_start', 'e1_participant1_end', 'e1_participant2_start', 'e1_participant2_end', 'e1_time_start', 'e1_time_end', 'e1_loc_start', 'e1_loc_end', 'e2_participant1_start', 'e2_participant1_end', 'e2_participant2_start', 'e2_participant2_end', 'e2_time_start', 'e2_time_end', 'e2_loc_start', 'e2_loc_end'], inplace=True)"
   ]
  },
  {
   "cell_type": "code",
   "execution_count": 28,
   "metadata": {},
   "outputs": [
    {
     "name": "stdout",
     "output_type": "stream",
     "text": [
      "Empty DataFrame\n",
      "Columns: [sentence1, e1_trigger_start, e1_trigger_end, sentence2, e2_trigger_start, e2_trigger_end, label]\n",
      "Index: []\n",
      "Empty DataFrame\n",
      "Columns: [sentence1, e1_trigger_start, e1_trigger_end, sentence2, e2_trigger_start, e2_trigger_end, label]\n",
      "Index: []\n",
      "Empty DataFrame\n",
      "Columns: [sentence1, e1_trigger_start, e1_trigger_end, sentence2, e2_trigger_start, e2_trigger_end, label]\n",
      "Index: []\n",
      "Empty DataFrame\n",
      "Columns: [sentence1, e1_trigger_start, e1_trigger_end, sentence2, e2_trigger_start, e2_trigger_end, label]\n",
      "Index: []\n"
     ]
    }
   ],
   "source": [
    "# check if there is any missing data\n",
    "# print(train_set.isnull().sum())\n",
    "# print(dev_set.isnull().sum())\n",
    "# print(test_set.isnull().sum())\n",
    "\n",
    "# check if there is any index equal to -1 or start index greater than end index\n",
    "print(train_set[train_set['e1_trigger_start'] == '-1'])\n",
    "print(train_set[train_set['e2_trigger_start'] == '-1'])\n",
    "print(train_set[train_set['e1_trigger_start'] > train_set['e1_trigger_end']])\n",
    "print(train_set[train_set['e2_trigger_start'] > train_set['e2_trigger_end']])\n"
   ]
  },
  {
   "cell_type": "code",
   "execution_count": 34,
   "metadata": {},
   "outputs": [
    {
     "name": "stdout",
     "output_type": "stream",
     "text": [
      "sentence1           object\n",
      "e1_trigger_start     int64\n",
      "e1_trigger_end       int64\n",
      "sentence2           object\n",
      "e2_trigger_start     int64\n",
      "e2_trigger_end       int64\n",
      "label                int64\n",
      "dtype: object\n"
     ]
    }
   ],
   "source": [
    "# convert to int and str\n",
    "train_set = train_set.astype({'e1_trigger_start': 'int', 'e1_trigger_end': 'int', 'e2_trigger_start': 'int', 'e2_trigger_end': 'int', 'label': 'int', 'sentence1': 'str', 'sentence2': 'str'})\n",
    "dev_set = dev_set.astype({'e1_trigger_start': 'int', 'e1_trigger_end': 'int', 'e2_trigger_start': 'int', 'e2_trigger_end': 'int', 'label': 'int', 'sentence1': 'str', 'sentence2': 'str'})\n",
    "test_set = test_set.astype({'e1_trigger_start': 'int', 'e1_trigger_end': 'int', 'e2_trigger_start': 'int', 'e2_trigger_end': 'int', 'sentence1': 'str', 'sentence2': 'str'})\n",
    "\n",
    "print(train_set.dtypes)"
   ]
  },
  {
   "cell_type": "code",
   "execution_count": 35,
   "metadata": {},
   "outputs": [],
   "source": [
    "def extract_trigger(row, i: str):\n",
    "    try:\n",
    "        trigger_start = row[f'e{i}_trigger_start']\n",
    "        trigger_end = row[f'e{i}_trigger_end']\n",
    "        \n",
    "        # Check for NaN values\n",
    "        if pd.isna(trigger_start) or pd.isna(trigger_end):\n",
    "            return None\n",
    "            \n",
    "        start_idx = int(trigger_start)\n",
    "        end_idx = int(trigger_end)\n",
    "        \n",
    "        sentence = row[f'sentence{i}']\n",
    "            \n",
    "        words = sentence.split()\n",
    "        if start_idx >= 0 and end_idx < len(words):\n",
    "            return words[start_idx: end_idx + 1][0]\n",
    "        else:\n",
    "            raise ValueError(\"Trigger indices out of bounds\")\n",
    "        \n",
    "    except Exception as e:\n",
    "        print(f\"Error in row {row.name}: {str(e)}\")\n",
    "        return None\n",
    "\n",
    "for dataset in [train_set, dev_set, test_set]:\n",
    "    dataset['e1_trigger'] = dataset.apply(lambda row: extract_trigger(row, 1), axis=1)\n",
    "    dataset['e2_trigger'] = dataset.apply(lambda row: extract_trigger(row, 2), axis=1)\n",
    "    dataset['length'] = dataset.apply(lambda row: len(row['sentence1'].split()) + len(row['sentence2'].split()), axis=1)\n",
    "\n",
    "        "
   ]
  },
  {
   "cell_type": "code",
   "execution_count": 36,
   "metadata": {},
   "outputs": [],
   "source": [
    "for dataset in [train_set, dev_set, test_set]:\n",
    "    dataset.drop(columns=['e1_trigger_start', 'e1_trigger_end', 'e2_trigger_start', 'e2_trigger_end'], inplace=True)"
   ]
  },
  {
   "cell_type": "code",
   "execution_count": 41,
   "metadata": {},
   "outputs": [
    {
     "data": {
      "text/html": [
       "<div>\n",
       "<style scoped>\n",
       "    .dataframe tbody tr th:only-of-type {\n",
       "        vertical-align: middle;\n",
       "    }\n",
       "\n",
       "    .dataframe tbody tr th {\n",
       "        vertical-align: top;\n",
       "    }\n",
       "\n",
       "    .dataframe thead th {\n",
       "        text-align: right;\n",
       "    }\n",
       "</style>\n",
       "<table border=\"1\" class=\"dataframe\">\n",
       "  <thead>\n",
       "    <tr style=\"text-align: right;\">\n",
       "      <th></th>\n",
       "      <th>sentence1</th>\n",
       "      <th>sentence2</th>\n",
       "      <th>label</th>\n",
       "      <th>e1_trigger</th>\n",
       "      <th>e2_trigger</th>\n",
       "      <th>length</th>\n",
       "    </tr>\n",
       "  </thead>\n",
       "  <tbody>\n",
       "    <tr>\n",
       "      <th>38991</th>\n",
       "      <td>The central government of China bears the grea...</td>\n",
       "      <td>-On July 1, rioters blocked major roads in Hon...</td>\n",
       "      <td>0</td>\n",
       "      <td>bears</td>\n",
       "      <td>threw</td>\n",
       "      <td>78</td>\n",
       "    </tr>\n",
       "    <tr>\n",
       "      <th>142886</th>\n",
       "      <td>“The girl is under the close attention of doct...</td>\n",
       "      <td>Several people were arrested , including indiv...</td>\n",
       "      <td>0</td>\n",
       "      <td>attention</td>\n",
       "      <td>tried</td>\n",
       "      <td>60</td>\n",
       "    </tr>\n",
       "    <tr>\n",
       "      <th>19980</th>\n",
       "      <td>The episode was captured on cellphone video an...</td>\n",
       "      <td>When the protests over the shooting of Mr. Bla...</td>\n",
       "      <td>1</td>\n",
       "      <td>protests</td>\n",
       "      <td>protests</td>\n",
       "      <td>73</td>\n",
       "    </tr>\n",
       "    <tr>\n",
       "      <th>130112</th>\n",
       "      <td>In a separate update regarding incidents durin...</td>\n",
       "      <td>Several people were arrested , including in Mo...</td>\n",
       "      <td>0</td>\n",
       "      <td>arson</td>\n",
       "      <td>including</td>\n",
       "      <td>86</td>\n",
       "    </tr>\n",
       "    <tr>\n",
       "      <th>191979</th>\n",
       "      <td>They emphasized that he was the only person th...</td>\n",
       "      <td>The judge twice admonished Prosecutor Binger f...</td>\n",
       "      <td>0</td>\n",
       "      <td>emphasized</td>\n",
       "      <td>admonished</td>\n",
       "      <td>68</td>\n",
       "    </tr>\n",
       "    <tr>\n",
       "      <th>75517</th>\n",
       "      <td>Analysts say that in the post-election period,...</td>\n",
       "      <td>In Burkina Faso, a daily newspaper summed up t...</td>\n",
       "      <td>0</td>\n",
       "      <td>measures</td>\n",
       "      <td>embodies</td>\n",
       "      <td>80</td>\n",
       "    </tr>\n",
       "    <tr>\n",
       "      <th>95517</th>\n",
       "      <td>\"If getting the desired election results still...</td>\n",
       "      <td>Analysts say that in the post-election period,...</td>\n",
       "      <td>0</td>\n",
       "      <td>required</td>\n",
       "      <td>introduce</td>\n",
       "      <td>66</td>\n",
       "    </tr>\n",
       "    <tr>\n",
       "      <th>171288</th>\n",
       "      <td>“You learn the music the judge is playing ,” h...</td>\n",
       "      <td>But jurors can consider whether the defendant ...</td>\n",
       "      <td>0</td>\n",
       "      <td>dance</td>\n",
       "      <td>assess</td>\n",
       "      <td>47</td>\n",
       "    </tr>\n",
       "    <tr>\n",
       "      <th>222551</th>\n",
       "      <td>He said that Rosenbaum was going to kill him i...</td>\n",
       "      <td>Two jurors spoke congenially to each other as ...</td>\n",
       "      <td>0</td>\n",
       "      <td>said</td>\n",
       "      <td>spoke</td>\n",
       "      <td>35</td>\n",
       "    </tr>\n",
       "    <tr>\n",
       "      <th>49325</th>\n",
       "      <td>The protesters stormed the legislature after t...</td>\n",
       "      <td>Lee, who started his career in the police and ...</td>\n",
       "      <td>0</td>\n",
       "      <td>vandalised</td>\n",
       "      <td>pinpointed</td>\n",
       "      <td>74</td>\n",
       "    </tr>\n",
       "  </tbody>\n",
       "</table>\n",
       "</div>"
      ],
      "text/plain": [
       "                                                sentence1  \\\n",
       "38991   The central government of China bears the grea...   \n",
       "142886  “The girl is under the close attention of doct...   \n",
       "19980   The episode was captured on cellphone video an...   \n",
       "130112  In a separate update regarding incidents durin...   \n",
       "191979  They emphasized that he was the only person th...   \n",
       "75517   Analysts say that in the post-election period,...   \n",
       "95517   \"If getting the desired election results still...   \n",
       "171288  “You learn the music the judge is playing ,” h...   \n",
       "222551  He said that Rosenbaum was going to kill him i...   \n",
       "49325   The protesters stormed the legislature after t...   \n",
       "\n",
       "                                                sentence2  label  e1_trigger  \\\n",
       "38991   -On July 1, rioters blocked major roads in Hon...      0       bears   \n",
       "142886  Several people were arrested , including indiv...      0   attention   \n",
       "19980   When the protests over the shooting of Mr. Bla...      1    protests   \n",
       "130112  Several people were arrested , including in Mo...      0       arson   \n",
       "191979  The judge twice admonished Prosecutor Binger f...      0  emphasized   \n",
       "75517   In Burkina Faso, a daily newspaper summed up t...      0    measures   \n",
       "95517   Analysts say that in the post-election period,...      0    required   \n",
       "171288  But jurors can consider whether the defendant ...      0       dance   \n",
       "222551  Two jurors spoke congenially to each other as ...      0        said   \n",
       "49325   Lee, who started his career in the police and ...      0  vandalised   \n",
       "\n",
       "        e2_trigger  length  \n",
       "38991        threw      78  \n",
       "142886       tried      60  \n",
       "19980     protests      73  \n",
       "130112   including      86  \n",
       "191979  admonished      68  \n",
       "75517     embodies      80  \n",
       "95517    introduce      66  \n",
       "171288      assess      47  \n",
       "222551       spoke      35  \n",
       "49325   pinpointed      74  "
      ]
     },
     "execution_count": 41,
     "metadata": {},
     "output_type": "execute_result"
    }
   ],
   "source": [
    "train_set.sample(10)"
   ]
  },
  {
   "cell_type": "code",
   "execution_count": 42,
   "metadata": {},
   "outputs": [],
   "source": [
    "# save the datasets\n",
    "train_set.to_csv(\"../data/train_set.csv\", index=False)\n",
    "dev_set.to_csv(\"../data/dev_set.csv\", index=False)\n",
    "test_set.to_csv(\"../data/test_set.csv\", index=False)"
   ]
  },
  {
   "cell_type": "code",
   "execution_count": 46,
   "metadata": {},
   "outputs": [
    {
     "data": {
      "text/plain": [
       "count    227328.000000\n",
       "mean         69.869721\n",
       "std          18.062424\n",
       "min          13.000000\n",
       "25%          57.000000\n",
       "50%          69.000000\n",
       "75%          81.000000\n",
       "max         238.000000\n",
       "Name: length, dtype: float64"
      ]
     },
     "execution_count": 46,
     "metadata": {},
     "output_type": "execute_result"
    }
   ],
   "source": [
    "train_set.length.describe()"
   ]
  },
  {
   "cell_type": "code",
   "execution_count": 47,
   "metadata": {},
   "outputs": [
    {
     "data": {
      "text/html": [
       "<div>\n",
       "<style scoped>\n",
       "    .dataframe tbody tr th:only-of-type {\n",
       "        vertical-align: middle;\n",
       "    }\n",
       "\n",
       "    .dataframe tbody tr th {\n",
       "        vertical-align: top;\n",
       "    }\n",
       "\n",
       "    .dataframe thead th {\n",
       "        text-align: right;\n",
       "    }\n",
       "</style>\n",
       "<table border=\"1\" class=\"dataframe\">\n",
       "  <thead>\n",
       "    <tr style=\"text-align: right;\">\n",
       "      <th></th>\n",
       "      <th>sentence1</th>\n",
       "      <th>sentence2</th>\n",
       "      <th>label</th>\n",
       "      <th>e1_trigger</th>\n",
       "      <th>e2_trigger</th>\n",
       "      <th>length</th>\n",
       "    </tr>\n",
       "  </thead>\n",
       "  <tbody>\n",
       "  </tbody>\n",
       "</table>\n",
       "</div>"
      ],
      "text/plain": [
       "Empty DataFrame\n",
       "Columns: [sentence1, sentence2, label, e1_trigger, e2_trigger, length]\n",
       "Index: []"
      ]
     },
     "execution_count": 47,
     "metadata": {},
     "output_type": "execute_result"
    }
   ],
   "source": [
    "train_set[train_set['length'] > 512]"
   ]
  },
  {
   "cell_type": "markdown",
   "metadata": {},
   "source": [
    "## Dataset "
   ]
  },
  {
   "cell_type": "code",
   "execution_count": 1,
   "metadata": {},
   "outputs": [
    {
     "name": "stderr",
     "output_type": "stream",
     "text": [
      "/root/github/CDEC-resolution/.venv/lib/python3.11/site-packages/tqdm/auto.py:21: TqdmWarning: IProgress not found. Please update jupyter and ipywidgets. See https://ipywidgets.readthedocs.io/en/stable/user_install.html\n",
      "  from .autonotebook import tqdm as notebook_tqdm\n"
     ]
    }
   ],
   "source": [
    "import torch\n",
    "from torch.utils.data import Dataset\n",
    "import pandas as pd\n",
    "from transformers import AutoTokenizer\n",
    "\n",
    "class CDECDataset(Dataset):\n",
    "    def __init__(self,\n",
    "                 df: pd.DataFrame, \n",
    "                 tokenizer: AutoTokenizer, \n",
    "                 max_len=512):\n",
    "        \"\"\"\n",
    "        Args:\n",
    "            df: DataFrame containing the data\n",
    "            tokenizer: BERT tokenizer\n",
    "            max_len (int): Maximum length of tokens\n",
    "        \"\"\"\n",
    "        self.data = df\n",
    "        self.tokenizer = tokenizer\n",
    "        self.max_len = max_len\n",
    "        \n",
    "    def __len__(self):\n",
    "        return len(self.data)\n",
    "    \n",
    "    def __getitem__(self, idx):\n",
    "        sentence1 = self.data.iloc[idx]['sentence1']\n",
    "        sentence2 = self.data.iloc[idx]['sentence2']\n",
    "        trigger1 = self.data.iloc[idx]['e1_trigger']\n",
    "        trigger2 = self.data.iloc[idx]['e2_trigger']\n",
    "        label = self.data.iloc[idx]['label']\n",
    "        \n",
    "        encoding = self.tokenizer.encode_plus(\n",
    "            text=sentence1,\n",
    "            text_pair=sentence2,\n",
    "            add_special_tokens=True,\n",
    "            max_length=self.max_len,\n",
    "            padding='max_length',\n",
    "            truncation=True,\n",
    "            return_attention_mask=True,\n",
    "            return_tensors='pt'\n",
    "        )\n",
    "        \n",
    "        return {\n",
    "            'input_ids': encoding['input_ids'].flatten(),\n",
    "            'attention_mask': encoding['attention_mask'].flatten(),\n",
    "            'label': torch.tensor(label, dtype=torch.long)\n",
    "        }"
   ]
  },
  {
   "cell_type": "markdown",
   "metadata": {},
   "source": [
    "## Train model\n",
    "\n",
    "2 implementations:\n",
    "- directly use ModernBertForSequenceClassification, with default setting\n",
    "- write my own cls, more customized, (maybe later)"
   ]
  },
  {
   "cell_type": "code",
   "execution_count": 27,
   "metadata": {},
   "outputs": [],
   "source": [
    "from transformers import AutoTokenizer\n",
    "\n",
    "# Defining some key variables that will be used later on in the training\n",
    "MAX_LEN = 300\n",
    "TRAIN_BATCH_SIZE = 64\n",
    "VALID_BATCH_SIZE = 128\n",
    "EPOCHS = 3\n",
    "LEARNING_RATE = 1e-05"
   ]
  },
  {
   "cell_type": "code",
   "execution_count": 28,
   "metadata": {},
   "outputs": [],
   "source": [
    "# load the datasets\n",
    "train_df = pd.read_csv(\"../data/train_set.csv\")\n",
    "dev_df = pd.read_csv(\"../data/dev_set.csv\")\n",
    "test_df = pd.read_csv(\"../data/test_set.csv\")\n",
    "\n",
    "tokenizer = AutoTokenizer.from_pretrained(\"answerdotai/ModernBERT-base\")\n",
    "train_dataset = CDECDataset(train_df, tokenizer, max_len=MAX_LEN)\n",
    "dev_dataset = CDECDataset(dev_df, tokenizer, max_len=MAX_LEN)\n",
    "test_dataset = CDECDataset(test_df, tokenizer, max_len=MAX_LEN)"
   ]
  },
  {
   "cell_type": "code",
   "execution_count": 29,
   "metadata": {},
   "outputs": [],
   "source": [
    "# Create the DataLoaders\n",
    "from torch.utils.data import DataLoader\n",
    "\n",
    "train_params = {\n",
    "    'batch_size': TRAIN_BATCH_SIZE,\n",
    "    'shuffle': True,\n",
    "    'num_workers': 0\n",
    "}\n",
    "\n",
    "dev_params = {\n",
    "    'batch_size': VALID_BATCH_SIZE,\n",
    "    'shuffle': False,\n",
    "    'num_workers': 0\n",
    "}\n",
    "\n",
    "test_params = {\n",
    "    'batch_size': VALID_BATCH_SIZE,\n",
    "    'shuffle': False,\n",
    "    'num_workers': 0\n",
    "}\n",
    "\n",
    "train_loader = DataLoader(train_dataset, **train_params)\n",
    "dev_loader = DataLoader(dev_dataset, **dev_params)\n",
    "test_loader = DataLoader(test_dataset, **test_params)\n",
    "\n"
   ]
  },
  {
   "cell_type": "code",
   "execution_count": 10,
   "metadata": {},
   "outputs": [
    {
     "name": "stderr",
     "output_type": "stream",
     "text": [
      "Some weights of ModernBertForSequenceClassification were not initialized from the model checkpoint at answerdotai/ModernBERT-base and are newly initialized: ['classifier.bias', 'classifier.weight']\n",
      "You should probably TRAIN this model on a down-stream task to be able to use it for predictions and inference.\n"
     ]
    },
    {
     "data": {
      "text/plain": [
       "SequenceClassifierOutput(loss=None, logits=tensor([[0.1055, 0.3281]], device='cuda:0'), hidden_states=None, attentions=None)"
      ]
     },
     "execution_count": 10,
     "metadata": {},
     "output_type": "execute_result"
    }
   ],
   "source": [
    "from transformers import ModernBertModel, BertForSequenceClassification, ModernBertForSequenceClassification\n",
    "import torch\n",
    "import torch._dynamo\n",
    "import random\n",
    "import os\n",
    "import numpy as np\n",
    "\n",
    "# 1. Set seeds for reproducibility\n",
    "def set_seed(seed=42):\n",
    "    random.seed(seed)\n",
    "    np.random.seed(seed)\n",
    "    torch.manual_seed(seed)\n",
    "    torch.cuda.manual_seed_all(seed)\n",
    "    os.environ['PYTHONHASHSEED'] = str(seed)\n",
    "\n",
    "# 2. Enable deterministic behavior\n",
    "torch.backends.cudnn.deterministic = True\n",
    "torch.backends.cudnn.benchmark = False\n",
    "\n",
    "# 3. Add your existing code with seed setting\n",
    "set_seed(42)\n",
    "\n",
    "\n",
    "torch._dynamo.config.suppress_errors = True\n",
    "torch.set_float32_matmul_precision('high')\n",
    "\n",
    "\n",
    "\n",
    "model = ModernBertForSequenceClassification.from_pretrained(\"answerdotai/ModernBERT-base\", attn_implementation=\"flash_attention_2\")\n",
    "model.to('cuda')\n",
    "\n",
    "inputs = tokenizer.encode_plus(\n",
    "    text=\"The quick brown fox jumps over the lazy dog\",\n",
    "    text_pair=\"The quick brown fox jumps over the lazy dog\",\n",
    "    add_special_tokens=True,\n",
    "    max_length=300,\n",
    "    padding='max_length',\n",
    "    truncation=True,\n",
    "    return_attention_mask=True,\n",
    "    return_tensors='pt'\n",
    ").to('cuda')\n",
    "\n",
    "with torch.no_grad():\n",
    "    outputs = model(**inputs)\n",
    "\n",
    "outputs"
   ]
  },
  {
   "cell_type": "code",
   "execution_count": 72,
   "metadata": {},
   "outputs": [
    {
     "data": {
      "text/plain": [
       "ModernBertConfig {\n",
       "  \"_attn_implementation_autoset\": true,\n",
       "  \"_name_or_path\": \"answerdotai/ModernBERT-base\",\n",
       "  \"architectures\": [\n",
       "    \"ModernBertForMaskedLM\"\n",
       "  ],\n",
       "  \"attention_bias\": false,\n",
       "  \"attention_dropout\": 0.0,\n",
       "  \"bos_token_id\": 50281,\n",
       "  \"classifier_activation\": \"gelu\",\n",
       "  \"classifier_bias\": false,\n",
       "  \"classifier_dropout\": 0.0,\n",
       "  \"classifier_pooling\": \"mean\",\n",
       "  \"cls_token_id\": 50281,\n",
       "  \"decoder_bias\": true,\n",
       "  \"deterministic_flash_attn\": false,\n",
       "  \"embedding_dropout\": 0.0,\n",
       "  \"eos_token_id\": 50282,\n",
       "  \"global_attn_every_n_layers\": 3,\n",
       "  \"global_rope_theta\": 160000.0,\n",
       "  \"gradient_checkpointing\": false,\n",
       "  \"hidden_activation\": \"gelu\",\n",
       "  \"hidden_size\": 768,\n",
       "  \"initializer_cutoff_factor\": 2.0,\n",
       "  \"initializer_range\": 0.02,\n",
       "  \"intermediate_size\": 1152,\n",
       "  \"layer_norm_eps\": 1e-05,\n",
       "  \"local_attention\": 128,\n",
       "  \"local_rope_theta\": 10000.0,\n",
       "  \"max_position_embeddings\": 8192,\n",
       "  \"mlp_bias\": false,\n",
       "  \"mlp_dropout\": 0.0,\n",
       "  \"model_type\": \"modernbert\",\n",
       "  \"norm_bias\": false,\n",
       "  \"norm_eps\": 1e-05,\n",
       "  \"num_attention_heads\": 12,\n",
       "  \"num_hidden_layers\": 22,\n",
       "  \"pad_token_id\": 50283,\n",
       "  \"position_embedding_type\": \"absolute\",\n",
       "  \"reference_compile\": true,\n",
       "  \"repad_logits_with_grad\": false,\n",
       "  \"sep_token_id\": 50282,\n",
       "  \"sparse_pred_ignore_index\": -100,\n",
       "  \"sparse_prediction\": false,\n",
       "  \"torch_dtype\": \"float32\",\n",
       "  \"transformers_version\": \"4.48.2\",\n",
       "  \"vocab_size\": 50368\n",
       "}"
      ]
     },
     "execution_count": 72,
     "metadata": {},
     "output_type": "execute_result"
    }
   ],
   "source": [
    "model.config"
   ]
  },
  {
   "cell_type": "code",
   "execution_count": 73,
   "metadata": {},
   "outputs": [
    {
     "data": {
      "text/plain": [
       "{'input_ids': tensor([[50281,   510,  3158,  8516, 30013, 27287,   689,   253, 22658,  4370,\n",
       "         50282,   510,  3158,  8516, 30013, 27287,   689,   253, 22658,  4370,\n",
       "         50282, 50283, 50283, 50283, 50283, 50283, 50283, 50283, 50283, 50283,\n",
       "         50283, 50283, 50283, 50283, 50283, 50283, 50283, 50283, 50283, 50283,\n",
       "         50283, 50283, 50283, 50283, 50283, 50283, 50283, 50283, 50283, 50283,\n",
       "         50283, 50283, 50283, 50283, 50283, 50283, 50283, 50283, 50283, 50283,\n",
       "         50283, 50283, 50283, 50283, 50283, 50283, 50283, 50283, 50283, 50283,\n",
       "         50283, 50283, 50283, 50283, 50283, 50283, 50283, 50283, 50283, 50283,\n",
       "         50283, 50283, 50283, 50283, 50283, 50283, 50283, 50283, 50283, 50283,\n",
       "         50283, 50283, 50283, 50283, 50283, 50283, 50283, 50283, 50283, 50283,\n",
       "         50283, 50283, 50283, 50283, 50283, 50283, 50283, 50283, 50283, 50283,\n",
       "         50283, 50283, 50283, 50283, 50283, 50283, 50283, 50283, 50283, 50283,\n",
       "         50283, 50283, 50283, 50283, 50283, 50283, 50283, 50283, 50283, 50283,\n",
       "         50283, 50283, 50283, 50283, 50283, 50283, 50283, 50283, 50283, 50283,\n",
       "         50283, 50283, 50283, 50283, 50283, 50283, 50283, 50283, 50283, 50283,\n",
       "         50283, 50283, 50283, 50283, 50283, 50283, 50283, 50283, 50283, 50283,\n",
       "         50283, 50283, 50283, 50283, 50283, 50283, 50283, 50283, 50283, 50283,\n",
       "         50283, 50283, 50283, 50283, 50283, 50283, 50283, 50283, 50283, 50283,\n",
       "         50283, 50283, 50283, 50283, 50283, 50283, 50283, 50283, 50283, 50283,\n",
       "         50283, 50283, 50283, 50283, 50283, 50283, 50283, 50283, 50283, 50283,\n",
       "         50283, 50283, 50283, 50283, 50283, 50283, 50283, 50283, 50283, 50283,\n",
       "         50283, 50283, 50283, 50283, 50283, 50283, 50283, 50283, 50283, 50283,\n",
       "         50283, 50283, 50283, 50283, 50283, 50283, 50283, 50283, 50283, 50283,\n",
       "         50283, 50283, 50283, 50283, 50283, 50283, 50283, 50283, 50283, 50283,\n",
       "         50283, 50283, 50283, 50283, 50283, 50283, 50283, 50283, 50283, 50283,\n",
       "         50283, 50283, 50283, 50283, 50283, 50283, 50283, 50283, 50283, 50283,\n",
       "         50283, 50283, 50283, 50283, 50283, 50283, 50283, 50283, 50283, 50283,\n",
       "         50283, 50283, 50283, 50283, 50283, 50283, 50283, 50283, 50283, 50283,\n",
       "         50283, 50283, 50283, 50283, 50283, 50283, 50283, 50283, 50283, 50283,\n",
       "         50283, 50283, 50283, 50283, 50283, 50283, 50283, 50283, 50283, 50283]]), 'attention_mask': tensor([[1, 1, 1, 1, 1, 1, 1, 1, 1, 1, 1, 1, 1, 1, 1, 1, 1, 1, 1, 1, 1, 0, 0, 0,\n",
       "         0, 0, 0, 0, 0, 0, 0, 0, 0, 0, 0, 0, 0, 0, 0, 0, 0, 0, 0, 0, 0, 0, 0, 0,\n",
       "         0, 0, 0, 0, 0, 0, 0, 0, 0, 0, 0, 0, 0, 0, 0, 0, 0, 0, 0, 0, 0, 0, 0, 0,\n",
       "         0, 0, 0, 0, 0, 0, 0, 0, 0, 0, 0, 0, 0, 0, 0, 0, 0, 0, 0, 0, 0, 0, 0, 0,\n",
       "         0, 0, 0, 0, 0, 0, 0, 0, 0, 0, 0, 0, 0, 0, 0, 0, 0, 0, 0, 0, 0, 0, 0, 0,\n",
       "         0, 0, 0, 0, 0, 0, 0, 0, 0, 0, 0, 0, 0, 0, 0, 0, 0, 0, 0, 0, 0, 0, 0, 0,\n",
       "         0, 0, 0, 0, 0, 0, 0, 0, 0, 0, 0, 0, 0, 0, 0, 0, 0, 0, 0, 0, 0, 0, 0, 0,\n",
       "         0, 0, 0, 0, 0, 0, 0, 0, 0, 0, 0, 0, 0, 0, 0, 0, 0, 0, 0, 0, 0, 0, 0, 0,\n",
       "         0, 0, 0, 0, 0, 0, 0, 0, 0, 0, 0, 0, 0, 0, 0, 0, 0, 0, 0, 0, 0, 0, 0, 0,\n",
       "         0, 0, 0, 0, 0, 0, 0, 0, 0, 0, 0, 0, 0, 0, 0, 0, 0, 0, 0, 0, 0, 0, 0, 0,\n",
       "         0, 0, 0, 0, 0, 0, 0, 0, 0, 0, 0, 0, 0, 0, 0, 0, 0, 0, 0, 0, 0, 0, 0, 0,\n",
       "         0, 0, 0, 0, 0, 0, 0, 0, 0, 0, 0, 0, 0, 0, 0, 0, 0, 0, 0, 0, 0, 0, 0, 0,\n",
       "         0, 0, 0, 0, 0, 0, 0, 0, 0, 0, 0, 0]])}"
      ]
     },
     "execution_count": 73,
     "metadata": {},
     "output_type": "execute_result"
    }
   ],
   "source": [
    "tokenizer.encode_plus(\n",
    "    text=\"The quick brown fox jumps over the lazy dog\",\n",
    "    text_pair=\"The quick brown fox jumps over the lazy dog\",\n",
    "    add_special_tokens=True,\n",
    "    max_length=300,\n",
    "    padding='max_length',\n",
    "    truncation=True,\n",
    "    return_attention_mask=True,\n",
    "    return_tensors='pt'\n",
    ")"
   ]
  },
  {
   "cell_type": "code",
   "execution_count": 71,
   "metadata": {},
   "outputs": [],
   "source": [
    "# class ModernBertClassifier(torch.nn.Module):\n",
    "#     def __init__(self, model, num_labels, classifier_pooling=\"cls\"):\n",
    "#         super(ModernBertClassifier, self).__init__()\n",
    "#         self.bert = model\n",
    "#         self.dropout = torch.nn.Dropout(0.2)\n",
    "#         self.classifier = torch.nn.Linear(model.config.hidden_size, num_labels)\n",
    "#         self.classifier_pooling = classifier_pooling\n",
    "        \n",
    "#     def forward(self, input_ids, attention_mask):\n",
    "#         outputs = self.bert(\n",
    "#             input_ids=input_ids, \n",
    "#             attention_mask=attention_mask\n",
    "#         )\n",
    "        \n",
    "#         last_hidden_state = outputs[0]\n",
    "        \n",
    "#         if self.classifier_pooling == \"cls\":\n",
    "#             last_hidden_state = last_hidden_state[:, 0]\n",
    "#         elif self.classifier_pooling == \"mean\":\n",
    "#             last_hidden_state = (last_hidden_state * attention_mask.unsqueeze(-1)).sum(dim=1) / attention_mask.sum(\n",
    "#                 dim=1, keepdim=True\n",
    "#             )"
   ]
  },
  {
   "cell_type": "code",
   "execution_count": 18,
   "metadata": {},
   "outputs": [],
   "source": [
    "import matplotlib.pyplot as plt\n",
    "from collections import defaultdict\n",
    "import numpy as np\n",
    "\n",
    "\n",
    "class LossTracker:\n",
    "    def __init__(self):\n",
    "        self.history = defaultdict(list)\n",
    "        \n",
    "    def update(self, metrics):\n",
    "        for k, v in metrics.items():\n",
    "            self.history[k].append(v)\n",
    "            \n",
    "    def plot(self):\n",
    "        plt.figure(figsize=(10, 6))\n",
    "        for metric, values in self.history.items():\n",
    "            plt.plot(values, label=metric)\n",
    "        plt.xlabel('Epoch')\n",
    "        plt.ylabel('Loss')\n",
    "        plt.legend()\n",
    "        plt.grid(True)\n",
    "        plt.show()"
   ]
  },
  {
   "cell_type": "code",
   "execution_count": 21,
   "metadata": {},
   "outputs": [],
   "source": [
    "# start training\n",
    "from tqdm import tqdm\n",
    "\n",
    "def loss_fn(outputs, targets):\n",
    "    \"\"\"\n",
    "    Args:\n",
    "        outputs: SequenceClassifierOutput from model\n",
    "        targets: Label tensor\n",
    "    \"\"\"\n",
    "    if hasattr(outputs, 'logits'):\n",
    "        return torch.nn.CrossEntropyLoss()(outputs.logits, targets)\n",
    "    return torch.nn.CrossEntropyLoss()(outputs, targets)\n",
    "\n",
    "optimizer = torch.optim.AdamW(model.parameters(), lr=LEARNING_RATE)\n",
    "# lr_scheduler = torch.optim.lr_scheduler.\n",
    "\n",
    "def train_fn(data_loader, model, optimizer, scheduler, device):\n",
    "    model.train()\n",
    "    final_loss = 0\n",
    "    progress_bar = tqdm(data_loader, total=len(data_loader), desc=\"Training\")\n",
    "    \n",
    "    for batch in progress_bar:\n",
    "        input_ids = batch['input_ids'].to(device)\n",
    "        attention_mask = batch['attention_mask'].to(device)\n",
    "        targets = batch['label'].to(device)\n",
    "        \n",
    "        optimizer.zero_grad()\n",
    "        outputs = model(input_ids, attention_mask)\n",
    "        \n",
    "        loss = loss_fn(outputs, targets)\n",
    "        loss.backward()\n",
    "        optimizer.step()\n",
    "        if scheduler is not None:\n",
    "            scheduler.step()\n",
    "        \n",
    "        final_loss += loss.item()\n",
    "        progress_bar.set_postfix({'loss': f'{loss.item():.4f}'})\n",
    "    \n",
    "    return final_loss / len(data_loader)\n",
    "\n",
    "def eval_fn(data_loader, model, device):\n",
    "    model.eval()\n",
    "    total_loss = 0\n",
    "    \n",
    "    with torch.no_grad():\n",
    "        for batch in tqdm(data_loader, desc='Evaluating'):\n",
    "            input_ids = batch['input_ids'].to(device)\n",
    "            attention_mask = batch['attention_mask'].to(device)\n",
    "            targets = batch['label'].to(device)\n",
    "            \n",
    "            outputs = model(input_ids, attention_mask)\n",
    "            loss = loss_fn(outputs.logits, targets)\n",
    "            total_loss += loss.item()\n",
    "            \n",
    "    return total_loss / len(data_loader)"
   ]
  },
  {
   "cell_type": "code",
   "execution_count": 30,
   "metadata": {},
   "outputs": [
    {
     "name": "stdout",
     "output_type": "stream",
     "text": [
      "\n",
      "Epoch 1/3\n"
     ]
    },
    {
     "name": "stderr",
     "output_type": "stream",
     "text": [
      "Training: 100%|██████████| 3552/3552 [09:24<00:00,  6.29it/s, loss=0.2184]\n",
      "Evaluating: 100%|██████████| 285/285 [00:31<00:00,  9.08it/s]\n"
     ]
    },
    {
     "name": "stdout",
     "output_type": "stream",
     "text": [
      "Train Loss: 0.1871\n",
      "Dev Loss: 0.2436\n",
      "\n",
      "Epoch 2/3\n"
     ]
    },
    {
     "name": "stderr",
     "output_type": "stream",
     "text": [
      "Training: 100%|██████████| 3552/3552 [09:25<00:00,  6.29it/s, loss=0.1512]\n",
      "Evaluating: 100%|██████████| 285/285 [00:29<00:00,  9.55it/s]\n"
     ]
    },
    {
     "name": "stdout",
     "output_type": "stream",
     "text": [
      "Train Loss: 0.1492\n",
      "Dev Loss: 0.2633\n",
      "\n",
      "Epoch 3/3\n"
     ]
    },
    {
     "name": "stderr",
     "output_type": "stream",
     "text": [
      "Training: 100%|██████████| 3552/3552 [09:26<00:00,  6.27it/s, loss=0.0809]\n",
      "Evaluating: 100%|██████████| 285/285 [00:30<00:00,  9.38it/s]\n"
     ]
    },
    {
     "name": "stdout",
     "output_type": "stream",
     "text": [
      "Train Loss: 0.1322\n",
      "Dev Loss: 0.2488\n"
     ]
    },
    {
     "data": {
      "image/png": "[encoded data removed]",
      "text/plain": [
       "<Figure size 1000x600 with 1 Axes>"
      ]
     },
     "metadata": {},
     "output_type": "display_data"
    }
   ],
   "source": [
    "# Training setup\n",
    "tracker = LossTracker()\n",
    "optimizer = torch.optim.AdamW(model.parameters(), lr=LEARNING_RATE)\n",
    "scheduler = torch.optim.lr_scheduler.CosineAnnealingLR(optimizer, T_max=EPOCHS)\n",
    "best_loss = float('inf')\n",
    "# patience = 3\n",
    "# patience_counter = 0\n",
    "\n",
    "# Training loop\n",
    "for epoch in range(EPOCHS):\n",
    "    print(f\"\\nEpoch {epoch+1}/{EPOCHS}\")\n",
    "    train_loss = train_fn(train_loader, model, optimizer, scheduler, 'cuda')\n",
    "    dev_loss = eval_fn(dev_loader, model, 'cuda')\n",
    "    \n",
    "    tracker.update({\n",
    "        'train_loss': train_loss,\n",
    "        'dev_loss': dev_loss\n",
    "    })\n",
    "    \n",
    "    print(f\"Train Loss: {train_loss:.4f}\")\n",
    "    print(f\"Dev Loss: {dev_loss:.4f}\")\n",
    "    \n",
    "    # # Early stopping\n",
    "    # if dev_loss < best_loss:\n",
    "    #     best_loss = dev_loss\n",
    "    #     patience_counter = 0\n",
    "    #     torch.save(model.state_dict(), 'best_model.pt')\n",
    "    # else:\n",
    "    #     patience_counter += 1\n",
    "    #     if patience_counter >= patience:\n",
    "    #         print(\"Early stopping triggered\")\n",
    "    #         break\n",
    "\n",
    "# Plot loss curves\n",
    "tracker.plot()"
   ]
  },
  {
   "cell_type": "code",
   "execution_count": 31,
   "metadata": {},
   "outputs": [
    {
     "data": {
      "image/png": "[encoded data removed]",
      "text/plain": [
       "<Figure size 1000x600 with 1 Axes>"
      ]
     },
     "metadata": {},
     "output_type": "display_data"
    }
   ],
   "source": [
    "tracker.plot()"
   ]
  },
  {
   "cell_type": "markdown",
   "metadata": {},
   "source": [
    "## Test model result"
   ]
  },
  {
   "cell_type": "code",
   "execution_count": 32,
   "metadata": {},
   "outputs": [
    {
     "name": "stderr",
     "output_type": "stream",
     "text": [
      "100%|██████████| 336/336 [00:44<00:00,  7.52it/s]\n"
     ]
    }
   ],
   "source": [
    "# baseline for untrained model\n",
    "\n",
    "from tqdm import tqdm\n",
    "from sklearn.metrics import classification_report\n",
    "\n",
    "model.eval()\n",
    "preds = []\n",
    "labels = []\n",
    "for batch in tqdm(test_loader):\n",
    "    input_ids = batch['input_ids'].to('cuda')\n",
    "    attention_mask = batch['attention_mask'].to('cuda')\n",
    "    labels.extend(batch['label'].numpy())\n",
    "    \n",
    "    with torch.no_grad():\n",
    "        outputs = model(input_ids, attention_mask)\n",
    "    \n",
    "    preds.extend(torch.argmax(outputs.logits, axis=1).cpu().numpy())\n"
   ]
  },
  {
   "cell_type": "code",
   "execution_count": 34,
   "metadata": {},
   "outputs": [
    {
     "name": "stdout",
     "output_type": "stream",
     "text": [
      "              precision    recall  f1-score   support\n",
      "\n",
      "           0       0.94      0.95      0.94     39111\n",
      "           1       0.41      0.35      0.38      3842\n",
      "\n",
      "    accuracy                           0.90     42953\n",
      "   macro avg       0.67      0.65      0.66     42953\n",
      "weighted avg       0.89      0.90      0.89     42953\n",
      "\n"
     ]
    }
   ],
   "source": [
    "print(classification_report(labels, preds))"
   ]
  },
  {
   "cell_type": "code",
   "execution_count": null,
   "metadata": {},
   "outputs": [],
   "source": []
  },
  {
   "cell_type": "code",
   "execution_count": 2,
   "metadata": {},
   "outputs": [],
   "source": [
    "import pandas as pd\n",
    "train_df = pd.read_csv(\"../data/train_set.csv\")"
   ]
  },
  {
   "cell_type": "code",
   "execution_count": null,
   "metadata": {},
   "outputs": [],
   "source": []
  },
  {
   "cell_type": "code",
   "execution_count": null,
   "metadata": {},
   "outputs": [],
   "source": []
  },
  {
   "cell_type": "markdown",
   "metadata": {},
   "source": [
    "# Decoder model"
   ]
  },
  {
   "cell_type": "markdown",
   "metadata": {},
   "source": [
    "## Dataset"
   ]
  },
  {
   "cell_type": "code",
   "execution_count": null,
   "metadata": {},
   "outputs": [],
   "source": []
  },
  {
   "cell_type": "code",
   "execution_count": 113,
   "metadata": {},
   "outputs": [
    {
     "name": "stdout",
     "output_type": "stream",
     "text": [
      "==((====))==  Unsloth 2025.2.15: Fast Qwen2 patching. Transformers: 4.48.2.\n",
      "   \\\\   /|    GPU: NVIDIA GeForce RTX 4080. Max memory: 15.992 GB. Platform: Linux.\n",
      "O^O/ \\_/ \\    Torch: 2.5.1+cu121. CUDA: 8.9. CUDA Toolkit: 12.1. Triton: 3.1.0\n",
      "\\        /    Bfloat16 = TRUE. FA [Xformers = 0.0.29.post1. FA2 = True]\n",
      " \"-____-\"     Free Apache license: http://github.com/unslothai/unsloth\n",
      "Unsloth: Fast downloading is enabled - ignore downloading bars which are red colored!\n"
     ]
    }
   ],
   "source": [
    "from unsloth import FastLanguageModel\n",
    "import torch\n",
    "\n",
    "model, tokenizer = FastLanguageModel.from_pretrained(\n",
    "    # Can select any from the below:\n",
    "    # \"unsloth/Qwen2.5-0.5B\", \"unsloth/Qwen2.5-1.5B\", \"unsloth/Qwen2.5-3B\"\n",
    "    # \"unsloth/Qwen2.5-14B\",  \"unsloth/Qwen2.5-32B\",  \"unsloth/Qwen2.5-72B\",\n",
    "    # And also all Instruct versions and Math. Coding verisons!\n",
    "    model_name = \"unsloth/Qwen2.5-0.5B-Instruct\",\n",
    "    max_seq_length = 300,\n",
    "    dtype = None,\n",
    "    load_in_4bit = False,\n",
    ")"
   ]
  },
  {
   "cell_type": "code",
   "execution_count": null,
   "metadata": {},
   "outputs": [
    {
     "data": {
      "text/plain": [
       "'<|im_start|>system\\nYou are Qwen, created by Alibaba Cloud. You are a helpful assistant.<|im_end|>\\n<|im_start|>user\\nTask: Determine if two event words refer to the same event.\\nFirst sentence: Here is what we know about the fighting at and around Al - Shifa medical center that the Israeli army says has killed more than 140 Palestinian militants .\\nEvent word in first sentence: fighting\\nSecond sentence: Global calls for a humanitarian ceasefire have mounted in recent days as Al - Shifa became the focus of Israel ’s war on Hamas , and fears grew for the thousands of people trapped there , on the frontline of the conflict .\\nEvent word in second sentence: conflict\\nQuestion: Do the event words *fighting* and *conflict* refer to the same event?  Answer only with Yes or No.\\nAnswer:<|im_end|>\\n<|im_start|>assistant\\nYes<|im_end|>\\n<|endoftext|>'"
      ]
     },
     "execution_count": 134,
     "metadata": {},
     "output_type": "execute_result"
    }
   ],
   "source": [
    "sentence1 = \"Here is what we know about the fighting at and around Al - Shifa medical center that the Israeli army says has killed more than 140 Palestinian militants .\"\n",
    "sentence2 = \"Global calls for a humanitarian ceasefire have mounted in recent days as Al - Shifa became the focus of Israel ’s war on Hamas , and fears grew for the thousands of people trapped there , on the frontline of the conflict .\"\n",
    "trigger1 = \"fighting\"\n",
    "trigger2 = \"conflict\"\n",
    "\n",
    "prompt = (\n",
    "    f\"Task: Determine if two event words refer to the same event.\\n\"\n",
    "    f\"First sentence: {sentence1}\\n\"\n",
    "    f\"Event word in first sentence: {trigger1}\\n\"\n",
    "    f\"Second sentence: {sentence2}\\n\"\n",
    "    f\"Event word in second sentence: {trigger2}\\n\"\n",
    "    f\"Question: Do the event words *{trigger1}* and *{trigger2}* refer to the same event?  Answer only with Yes or No.\\n\"\n",
    "    f\"Answer:\"\n",
    ")\n",
    "\n",
    "message = [\n",
    "    {\n",
    "        \"role\": \"user\",\n",
    "        \"content\": prompt\n",
    "    },\n",
    "    {\n",
    "        \"role\": \"assistant\",\n",
    "        \"content\": \"Yes\"\n",
    "    }\n",
    "]\n",
    "\n",
    "input_ids = tokenizer.apply_chat_template(message, return_tensors=\"pt\").to('cuda')\n",
    "# tokenizer.decode(tokenizer.apply_chat_template(message, add_generation_prompt=True))\n",
    "\n",
    "FastLanguageModel.for_inference(model)\n",
    "output_ids = model.generate(input_ids)\n",
    "tokenizer.decode(output_ids[0])"
   ]
  },
  {
   "cell_type": "code",
   "execution_count": 170,
   "metadata": {},
   "outputs": [
    {
     "data": {
      "text/plain": [
       "{'input_ids': tensor([[151654, 151654, 151654, 151654, 151654, 151654, 151654, 151654, 151654,\n",
       "         151654, 151654, 151654, 151654, 151654, 151654, 151654, 151654, 151654,\n",
       "         151654, 151654, 151654, 151654, 151654, 151654, 151654, 151654, 151654,\n",
       "         151654, 151654, 151654, 151654, 151654, 151654, 151654, 151654, 151654,\n",
       "         151654, 151654, 151654, 151654, 151654, 151654, 151654, 151654, 151654,\n",
       "         151654, 151654, 151654, 151654, 151654, 151654, 151654, 151654, 151654,\n",
       "         151654, 151654, 151654, 151654, 151654, 151654, 151654, 151654, 151654,\n",
       "         151654, 151654, 151654, 151654, 151654, 151654, 151654, 151654, 151654,\n",
       "         151654, 151654, 151654, 151654, 151654, 151654, 151654, 151654, 151654,\n",
       "         151654, 151654, 151654, 151654, 151654, 151654, 151654, 151654, 151654,\n",
       "         151654, 151654, 151654, 151654, 151654, 151654, 151654, 151654, 151654,\n",
       "         151654, 151654, 151654, 151654, 151654, 151654, 151654, 151654, 151654,\n",
       "         151654, 151654, 151654, 151654, 151654, 151654, 151654, 151654, 151654,\n",
       "         151654, 151654, 151654, 151654, 151654, 151654, 151654, 151644,   8948,\n",
       "            198,   2610,    525,   1207,  16948,     11,   3465,    553,  54364,\n",
       "          14817,     13,   1446,    525,    264,  10950,  17847,     13, 151645,\n",
       "            198, 151644,    872,    198,   6262,     25,  29901,    421,   1378,\n",
       "           1538,   4244,   8300,    311,    279,   1852,   1538,    624,   5338,\n",
       "          11652,     25,   5692,    374,   1128,    582,   1414,    911,    279,\n",
       "          10805,    518,    323,   2163,   1674,    481,   1417,  33818,   6457,\n",
       "           4126,    429,    279,  15907,  13390,   2727,    702,   7425,    803,\n",
       "           1091,    220,     16,     19,     15,  21841,  38349,  16448,   1556,\n",
       "           3409,    304,   1156,  11652,     25,  10805,    198,  15666,  11652,\n",
       "             25,   7962,   6738,    369,    264,  37648,  81773,    614,  21810,\n",
       "            304,   3213,   2849,    438,   1674,    481,   1417,  33818,   6116,\n",
       "            279,   5244,    315,   6778,  17744,     82,   4116,    389,  40641,\n",
       "           1154,    323,  23209,  13938,    369,    279,   9037,    315,   1251,\n",
       "          30591,   1052,   1154,    389,    279,  96001,    315,    279,  12055,\n",
       "          16448,   1556,   3409,    304,   2086,  11652,     25,  12055,    198,\n",
       "          14582,     25,   3155,    279,   1538,   4244,    353,  21143,    287,\n",
       "              9,    323,    353,   6135,  21242,      9,   8300,    311,    279,\n",
       "           1852,   1538,     30,    220,  21806,   1172,    448,   7414,    476,\n",
       "           2308,    624,  16141,     25, 151645,    198, 151644,  77091,    198,\n",
       "           9454, 151645,    198]]), 'attention_mask': tensor([[0, 0, 0, 0, 0, 0, 0, 0, 0, 0, 0, 0, 0, 0, 0, 0, 0, 0, 0, 0, 0, 0, 0, 0,\n",
       "         0, 0, 0, 0, 0, 0, 0, 0, 0, 0, 0, 0, 0, 0, 0, 0, 0, 0, 0, 0, 0, 0, 0, 0,\n",
       "         0, 0, 0, 0, 0, 0, 0, 0, 0, 0, 0, 0, 0, 0, 0, 0, 0, 0, 0, 0, 0, 0, 0, 0,\n",
       "         0, 0, 0, 0, 0, 0, 0, 0, 0, 0, 0, 0, 0, 0, 0, 0, 0, 0, 0, 0, 0, 0, 0, 0,\n",
       "         0, 0, 0, 0, 0, 0, 0, 0, 0, 0, 0, 0, 0, 0, 0, 0, 0, 0, 0, 0, 0, 0, 0, 0,\n",
       "         0, 0, 0, 0, 1, 1, 1, 1, 1, 1, 1, 1, 1, 1, 1, 1, 1, 1, 1, 1, 1, 1, 1, 1,\n",
       "         1, 1, 1, 1, 1, 1, 1, 1, 1, 1, 1, 1, 1, 1, 1, 1, 1, 1, 1, 1, 1, 1, 1, 1,\n",
       "         1, 1, 1, 1, 1, 1, 1, 1, 1, 1, 1, 1, 1, 1, 1, 1, 1, 1, 1, 1, 1, 1, 1, 1,\n",
       "         1, 1, 1, 1, 1, 1, 1, 1, 1, 1, 1, 1, 1, 1, 1, 1, 1, 1, 1, 1, 1, 1, 1, 1,\n",
       "         1, 1, 1, 1, 1, 1, 1, 1, 1, 1, 1, 1, 1, 1, 1, 1, 1, 1, 1, 1, 1, 1, 1, 1,\n",
       "         1, 1, 1, 1, 1, 1, 1, 1, 1, 1, 1, 1, 1, 1, 1, 1, 1, 1, 1, 1, 1, 1, 1, 1,\n",
       "         1, 1, 1, 1, 1, 1, 1, 1, 1, 1, 1, 1, 1, 1, 1, 1, 1, 1, 1, 1, 1, 1, 1, 1,\n",
       "         1, 1, 1, 1, 1, 1, 1, 1, 1, 1, 1, 1]])}"
      ]
     },
     "execution_count": 170,
     "metadata": {},
     "output_type": "execute_result"
    }
   ],
   "source": [
    "s = tokenizer.apply_chat_template(message, return_tensors=\"pt\", tokenize=False)\n",
    "tokenizer.encode_plus(s, max_length=300, padding='max_length', truncation=True, return_tensors='pt')"
   ]
  },
  {
   "cell_type": "code",
   "execution_count": null,
   "metadata": {},
   "outputs": [],
   "source": []
  },
  {
   "cell_type": "code",
   "execution_count": 156,
   "metadata": {},
   "outputs": [
    {
     "data": {
      "text/plain": [
       "'Yes<|im_end|>\\n'"
      ]
     },
     "execution_count": 156,
     "metadata": {},
     "output_type": "execute_result"
    }
   ],
   "source": [
    "from trl import SFTTrainer, DataCollatorForCompletionOnlyLM\n",
    "\n",
    "collator = DataCollatorForCompletionOnlyLM(\n",
    "    response_template=\"<|im_start|>assistant\\n\",\n",
    "    tokenizer=tokenizer,\n",
    ")\n",
    "\n",
    "collator([input_ids[0].cpu().numpy()])['labels']\n",
    "tokenizer.decode([ 9454, 151645,    198])"
   ]
  },
  {
   "cell_type": "code",
   "execution_count": null,
   "metadata": {},
   "outputs": [],
   "source": [
    "from torch.utils.data import Dataset\n",
    "import torch\n",
    "\n",
    "class CDECDecoderDataset(Dataset):\n",
    "    \"\"\"Dataset for decoder-only models like Qwen / Llama\"\"\"\n",
    "    def __init__(self, df: pd.DataFrame, tokenizer: AutoTokenizer, max_len=512):\n",
    "        self.data = df\n",
    "        self.tokenizer = tokenizer\n",
    "        self.max_len = max_len\n",
    "        \n",
    "    def __getitem__(self, idx):\n",
    "        sentence1 = self.data.iloc[idx]['sentence1']\n",
    "        sentence2 = self.data.iloc[idx]['sentence2']\n",
    "        trigger1 = self.data.iloc[idx]['e1_trigger']\n",
    "        trigger2 = self.data.iloc[idx]['e2_trigger']\n",
    "        label = self.data.iloc[idx]['label']\n",
    "        \n",
    "        # Create a more informative prompt for event coreference\n",
    "        prompt = (\n",
    "            f\"Task: Determine if two event words refer to the same event.\\n\"\n",
    "            f\"First sentence: {sentence1}\\n\"\n",
    "            f\"Event word in first sentence: {trigger1}\\n\"\n",
    "            f\"Second sentence: {sentence2}\\n\"\n",
    "            f\"Event word in second sentence: {trigger2}\\n\"\n",
    "            f\"Question: Do the event words *{trigger1}* and *{trigger2}* refer to the same event? Answer only with Yes or No.\\n\"\n",
    "            f\"Answer:\"\n",
    "        )\n",
    "        \n",
    "        # Convert label to more meaningful text\n",
    "        label_text = \"Yes\" if label == 1 else \"No\"\n",
    "\n",
    "        # Create a chat message\n",
    "        message = [\n",
    "            {\n",
    "                \"role\": \"user\",\n",
    "                \"content\": prompt\n",
    "            },\n",
    "            {\n",
    "                \"role\": \"assistant\",\n",
    "                \"content\": label_text\n",
    "            }\n",
    "        ]\n",
    "        \n",
    "        message_chat = tokenizer.apply_chat_template(message, return_tensors=\"pt\", tokenize=False)\n",
    "        encoding = tokenizer.encode_plus(message_chat, max_length=self.max_len, padding='max_length', truncation=True, return_tensors='pt')\n",
    "        \n",
    "        return {\n",
    "            'input_ids': encoding['input_ids'].flatten(),\n",
    "            'attention_mask': encoding['attention_mask'].flatten(),\n",
    "        }"
   ]
  },
  {
   "cell_type": "code",
   "execution_count": null,
   "metadata": {},
   "outputs": [
    {
     "ename": "TypeError",
     "evalue": "'dict' object cannot be interpreted as an integer",
     "output_type": "error",
     "traceback": [
      "\u001b[0;31m---------------------------------------------------------------------------\u001b[0m",
      "\u001b[0;31mTypeError\u001b[0m                                 Traceback (most recent call last)",
      "Cell \u001b[0;32mIn[157], line 3\u001b[0m\n\u001b[1;32m      1\u001b[0m train_dataset \u001b[38;5;241m=\u001b[39m CDECDecoderDataset(train_df, tokenizer, max_len\u001b[38;5;241m=\u001b[39m\u001b[38;5;241m300\u001b[39m)\n\u001b[1;32m      2\u001b[0m examples \u001b[38;5;241m=\u001b[39m [train_dataset[\u001b[38;5;241m0\u001b[39m], train_dataset[\u001b[38;5;241m1\u001b[39m]]\n\u001b[0;32m----> 3\u001b[0m \u001b[43mcollator\u001b[49m\u001b[43m(\u001b[49m\u001b[43mexamples\u001b[49m\u001b[43m)\u001b[49m\n",
      "File \u001b[0;32m~/github/CDEC-resolution/.venv/lib/python3.11/site-packages/transformers/data/data_collator.py:45\u001b[0m, in \u001b[0;36mDataCollatorMixin.__call__\u001b[0;34m(self, features, return_tensors)\u001b[0m\n\u001b[1;32m     43\u001b[0m     \u001b[38;5;28;01mreturn\u001b[39;00m \u001b[38;5;28mself\u001b[39m\u001b[38;5;241m.\u001b[39mtf_call(features)\n\u001b[1;32m     44\u001b[0m \u001b[38;5;28;01melif\u001b[39;00m return_tensors \u001b[38;5;241m==\u001b[39m \u001b[38;5;124m\"\u001b[39m\u001b[38;5;124mpt\u001b[39m\u001b[38;5;124m\"\u001b[39m:\n\u001b[0;32m---> 45\u001b[0m     \u001b[38;5;28;01mreturn\u001b[39;00m \u001b[38;5;28;43mself\u001b[39;49m\u001b[38;5;241;43m.\u001b[39;49m\u001b[43mtorch_call\u001b[49m\u001b[43m(\u001b[49m\u001b[43mfeatures\u001b[49m\u001b[43m)\u001b[49m\n\u001b[1;32m     46\u001b[0m \u001b[38;5;28;01melif\u001b[39;00m return_tensors \u001b[38;5;241m==\u001b[39m \u001b[38;5;124m\"\u001b[39m\u001b[38;5;124mnp\u001b[39m\u001b[38;5;124m\"\u001b[39m:\n\u001b[1;32m     47\u001b[0m     \u001b[38;5;28;01mreturn\u001b[39;00m \u001b[38;5;28mself\u001b[39m\u001b[38;5;241m.\u001b[39mnumpy_call(features)\n",
      "File \u001b[0;32m~/github/CDEC-resolution/.venv/lib/python3.11/site-packages/trl/trainer/utils.py:125\u001b[0m, in \u001b[0;36mDataCollatorForCompletionOnlyLM.torch_call\u001b[0;34m(self, examples)\u001b[0m\n\u001b[1;32m    124\u001b[0m \u001b[38;5;28;01mdef\u001b[39;00m\u001b[38;5;250m \u001b[39m\u001b[38;5;21mtorch_call\u001b[39m(\u001b[38;5;28mself\u001b[39m, examples: \u001b[38;5;28mlist\u001b[39m[Union[\u001b[38;5;28mlist\u001b[39m[\u001b[38;5;28mint\u001b[39m], Any, \u001b[38;5;28mdict\u001b[39m[\u001b[38;5;28mstr\u001b[39m, Any]]]) \u001b[38;5;241m-\u001b[39m\u001b[38;5;241m>\u001b[39m \u001b[38;5;28mdict\u001b[39m[\u001b[38;5;28mstr\u001b[39m, Any]:\n\u001b[0;32m--> 125\u001b[0m     batch \u001b[38;5;241m=\u001b[39m \u001b[38;5;28;43msuper\u001b[39;49m\u001b[43m(\u001b[49m\u001b[43m)\u001b[49m\u001b[38;5;241;43m.\u001b[39;49m\u001b[43mtorch_call\u001b[49m\u001b[43m(\u001b[49m\u001b[43mexamples\u001b[49m\u001b[43m)\u001b[49m\n\u001b[1;32m    127\u001b[0m     \u001b[38;5;28;01mif\u001b[39;00m \u001b[38;5;28mself\u001b[39m\u001b[38;5;241m.\u001b[39minstruction_template \u001b[38;5;129;01mis\u001b[39;00m \u001b[38;5;28;01mNone\u001b[39;00m:\n\u001b[1;32m    128\u001b[0m         \u001b[38;5;28;01mfor\u001b[39;00m i \u001b[38;5;129;01min\u001b[39;00m \u001b[38;5;28mrange\u001b[39m(\u001b[38;5;28mlen\u001b[39m(examples)):\n",
      "File \u001b[0;32m~/github/CDEC-resolution/.venv/lib/python3.11/site-packages/transformers/data/data_collator.py:815\u001b[0m, in \u001b[0;36mDataCollatorForLanguageModeling.torch_call\u001b[0;34m(self, examples)\u001b[0m\n\u001b[1;32m    810\u001b[0m     batch \u001b[38;5;241m=\u001b[39m pad_without_fast_tokenizer_warning(\n\u001b[1;32m    811\u001b[0m         \u001b[38;5;28mself\u001b[39m\u001b[38;5;241m.\u001b[39mtokenizer, examples, return_tensors\u001b[38;5;241m=\u001b[39m\u001b[38;5;124m\"\u001b[39m\u001b[38;5;124mpt\u001b[39m\u001b[38;5;124m\"\u001b[39m, pad_to_multiple_of\u001b[38;5;241m=\u001b[39m\u001b[38;5;28mself\u001b[39m\u001b[38;5;241m.\u001b[39mpad_to_multiple_of\n\u001b[1;32m    812\u001b[0m     )\n\u001b[1;32m    813\u001b[0m \u001b[38;5;28;01melse\u001b[39;00m:\n\u001b[1;32m    814\u001b[0m     batch \u001b[38;5;241m=\u001b[39m {\n\u001b[0;32m--> 815\u001b[0m         \u001b[38;5;124m\"\u001b[39m\u001b[38;5;124minput_ids\u001b[39m\u001b[38;5;124m\"\u001b[39m: \u001b[43m_torch_collate_batch\u001b[49m\u001b[43m(\u001b[49m\u001b[43mexamples\u001b[49m\u001b[43m,\u001b[49m\u001b[43m \u001b[49m\u001b[38;5;28;43mself\u001b[39;49m\u001b[38;5;241;43m.\u001b[39;49m\u001b[43mtokenizer\u001b[49m\u001b[43m,\u001b[49m\u001b[43m \u001b[49m\u001b[43mpad_to_multiple_of\u001b[49m\u001b[38;5;241;43m=\u001b[39;49m\u001b[38;5;28;43mself\u001b[39;49m\u001b[38;5;241;43m.\u001b[39;49m\u001b[43mpad_to_multiple_of\u001b[49m\u001b[43m)\u001b[49m\n\u001b[1;32m    816\u001b[0m     }\n\u001b[1;32m    818\u001b[0m \u001b[38;5;66;03m# If special token mask has been preprocessed, pop it from the dict.\u001b[39;00m\n\u001b[1;32m    819\u001b[0m special_tokens_mask \u001b[38;5;241m=\u001b[39m batch\u001b[38;5;241m.\u001b[39mpop(\u001b[38;5;124m\"\u001b[39m\u001b[38;5;124mspecial_tokens_mask\u001b[39m\u001b[38;5;124m\"\u001b[39m, \u001b[38;5;28;01mNone\u001b[39;00m)\n",
      "File \u001b[0;32m~/github/CDEC-resolution/.venv/lib/python3.11/site-packages/transformers/data/data_collator.py:434\u001b[0m, in \u001b[0;36m_torch_collate_batch\u001b[0;34m(examples, tokenizer, pad_to_multiple_of)\u001b[0m\n\u001b[1;32m    432\u001b[0m \u001b[38;5;66;03m# Tensorize if necessary.\u001b[39;00m\n\u001b[1;32m    433\u001b[0m \u001b[38;5;28;01mif\u001b[39;00m \u001b[38;5;28misinstance\u001b[39m(examples[\u001b[38;5;241m0\u001b[39m], (\u001b[38;5;28mlist\u001b[39m, \u001b[38;5;28mtuple\u001b[39m, np\u001b[38;5;241m.\u001b[39mndarray)):\n\u001b[0;32m--> 434\u001b[0m     examples \u001b[38;5;241m=\u001b[39m \u001b[43m[\u001b[49m\u001b[43mtorch\u001b[49m\u001b[38;5;241;43m.\u001b[39;49m\u001b[43mtensor\u001b[49m\u001b[43m(\u001b[49m\u001b[43me\u001b[49m\u001b[43m,\u001b[49m\u001b[43m \u001b[49m\u001b[43mdtype\u001b[49m\u001b[38;5;241;43m=\u001b[39;49m\u001b[43mtorch\u001b[49m\u001b[38;5;241;43m.\u001b[39;49m\u001b[43mlong\u001b[49m\u001b[43m)\u001b[49m\u001b[43m \u001b[49m\u001b[38;5;28;43;01mfor\u001b[39;49;00m\u001b[43m \u001b[49m\u001b[43me\u001b[49m\u001b[43m \u001b[49m\u001b[38;5;129;43;01min\u001b[39;49;00m\u001b[43m \u001b[49m\u001b[43mexamples\u001b[49m\u001b[43m]\u001b[49m\n\u001b[1;32m    436\u001b[0m length_of_first \u001b[38;5;241m=\u001b[39m examples[\u001b[38;5;241m0\u001b[39m]\u001b[38;5;241m.\u001b[39msize(\u001b[38;5;241m0\u001b[39m)\n\u001b[1;32m    438\u001b[0m \u001b[38;5;66;03m# Check if padding is necessary.\u001b[39;00m\n",
      "File \u001b[0;32m~/github/CDEC-resolution/.venv/lib/python3.11/site-packages/transformers/data/data_collator.py:434\u001b[0m, in \u001b[0;36m<listcomp>\u001b[0;34m(.0)\u001b[0m\n\u001b[1;32m    432\u001b[0m \u001b[38;5;66;03m# Tensorize if necessary.\u001b[39;00m\n\u001b[1;32m    433\u001b[0m \u001b[38;5;28;01mif\u001b[39;00m \u001b[38;5;28misinstance\u001b[39m(examples[\u001b[38;5;241m0\u001b[39m], (\u001b[38;5;28mlist\u001b[39m, \u001b[38;5;28mtuple\u001b[39m, np\u001b[38;5;241m.\u001b[39mndarray)):\n\u001b[0;32m--> 434\u001b[0m     examples \u001b[38;5;241m=\u001b[39m [\u001b[43mtorch\u001b[49m\u001b[38;5;241;43m.\u001b[39;49m\u001b[43mtensor\u001b[49m\u001b[43m(\u001b[49m\u001b[43me\u001b[49m\u001b[43m,\u001b[49m\u001b[43m \u001b[49m\u001b[43mdtype\u001b[49m\u001b[38;5;241;43m=\u001b[39;49m\u001b[43mtorch\u001b[49m\u001b[38;5;241;43m.\u001b[39;49m\u001b[43mlong\u001b[49m\u001b[43m)\u001b[49m \u001b[38;5;28;01mfor\u001b[39;00m e \u001b[38;5;129;01min\u001b[39;00m examples]\n\u001b[1;32m    436\u001b[0m length_of_first \u001b[38;5;241m=\u001b[39m examples[\u001b[38;5;241m0\u001b[39m]\u001b[38;5;241m.\u001b[39msize(\u001b[38;5;241m0\u001b[39m)\n\u001b[1;32m    438\u001b[0m \u001b[38;5;66;03m# Check if padding is necessary.\u001b[39;00m\n",
      "\u001b[0;31mTypeError\u001b[0m: 'dict' object cannot be interpreted as an integer"
     ]
    }
   ],
   "source": [
    "train_dataset = CDECDecoderDataset(train_df, tokenizer, max_len=300)\n",
    "examples = [train_dataset[0], train_dataset[1]]\n",
    "collator(examples)"
   ]
  },
  {
   "cell_type": "markdown",
   "metadata": {},
   "source": []
  },
  {
   "cell_type": "code",
   "execution_count": null,
   "metadata": {},
   "outputs": [],
   "source": []
  },
  {
   "cell_type": "code",
   "execution_count": null,
   "metadata": {},
   "outputs": [],
   "source": [
    "tr"
   ]
  }
 ],
 "metadata": {
  "kernelspec": {
   "display_name": ".venv",
   "language": "python",
   "name": "python3"
  },
  "language_info": {
   "codemirror_mode": {
    "name": "ipython",
    "version": 3
   },
   "file_extension": ".py",
   "mimetype": "text/x-python",
   "name": "python",
   "nbconvert_exporter": "python",
   "pygments_lexer": "ipython3",
   "version": "3.11.0rc1"
  }
 },
 "nbformat": 4,
 "nbformat_minor": 2
}
